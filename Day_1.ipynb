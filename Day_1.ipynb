{
  "nbformat": 4,
  "nbformat_minor": 0,
  "metadata": {
    "colab": {
      "provenance": [],
      "authorship_tag": "ABX9TyMdBy8Ekmz0cUdnubBdLswX",
      "include_colab_link": true
    },
    "kernelspec": {
      "name": "python3",
      "display_name": "Python 3"
    },
    "language_info": {
      "name": "python"
    }
  },
  "cells": [
    {
      "cell_type": "markdown",
      "metadata": {
        "id": "view-in-github",
        "colab_type": "text"
      },
      "source": [
        "<a href=\"https://colab.research.google.com/github/Spidy394/Program_Manhatten/blob/main/Day_1.ipynb\" target=\"_parent\"><img src=\"https://colab.research.google.com/assets/colab-badge.svg\" alt=\"Open In Colab\"/></a>"
      ]
    },
    {
      "cell_type": "markdown",
      "source": [
        "# Procedual Programing Example"
      ],
      "metadata": {
        "id": "FD3CSVrwK7FR"
      }
    },
    {
      "cell_type": "markdown",
      "source": [
        "## 1. Variable Declaration"
      ],
      "metadata": {
        "id": "CM40RiLALauh"
      }
    },
    {
      "cell_type": "code",
      "source": [
        "# --- Global \"Ingredients\" and \"Kitchen State\" (Data) ---\n",
        "# These variables represent the data that our procedures will operate on\n",
        "\n",
        "oven_temperature = 0\n",
        "is_oven_preheated = False\n",
        "flour_amount = 0\n",
        "sugar_amount = 0\n",
        "eggs_cracked = 0\n",
        "milk_amount = 0\n",
        "baking_powder_amount = 0\n",
        "batter_smoothness = \"not mixed\"\n",
        "cake_tin_filled = False\n",
        "cake_baked = False\n",
        "timer_set_for = 0 # in minutes\n",
        "current_timer = 0 # in minutes"
      ],
      "metadata": {
        "id": "wmFjyMwxLgz4"
      },
      "execution_count": 2,
      "outputs": []
    },
    {
      "cell_type": "markdown",
      "source": [
        "## 2. Define the utility (user-defined) functions"
      ],
      "metadata": {
        "id": "jrsJBRz3LkRO"
      }
    },
    {
      "cell_type": "markdown",
      "source": [
        "### A. Define the preheat_oven function"
      ],
      "metadata": {
        "id": "ZYqign3QPJkp"
      }
    },
    {
      "cell_type": "code",
      "source": [
        "def preheat_oven(temperature_celsius):\n",
        "    \"\"\"\n",
        "    Procedure to preheat the oven.\n",
        "    Modifies the global 'oven_temperature' and 'is_oven_preheated' state.\n",
        "    \"\"\"\n",
        "    global oven_temperature, is_oven_preheated\n",
        "    print(f\"Step 1: Turning on the oven and setting to {temperature_celsius}°C.\")\n",
        "    oven_temperature = temperature_celsius\n",
        "    # Simulate waiting for oven to preheat\n",
        "    print(\"Waiting for oven to reach temperature...\")\n",
        "    is_oven_preheated = True\n",
        "    print(f\"Oven is now preheated to {oven_temperature}°C.\")"
      ],
      "metadata": {
        "id": "KmD0N52IPQCI"
      },
      "execution_count": 3,
      "outputs": []
    },
    {
      "cell_type": "markdown",
      "source": [
        "### B. Define the prepare_ingredients function"
      ],
      "metadata": {
        "id": "vw4-dSZIPSbq"
      }
    },
    {
      "cell_type": "code",
      "source": [
        "def prepare_ingredients():\n",
        "    \"\"\"\n",
        "    Procedure to get and measure ingredients.\n",
        "    Modifies global 'flour_amount', 'sugar_amount', 'eggs_cracked', etc.\n",
        "    \"\"\"\n",
        "    global flour_amount, sugar_amount, eggs_cracked, milk_amount, baking_powder_amount\n",
        "    print(\"\\nStep 2: Preparing ingredients.\")\n",
        "    print(\"Getting flour from pantry.\")\n",
        "    flour_amount = 2  # cups\n",
        "    print(f\"Measured {flour_amount} cups of flour.\")\n",
        "    print(\"Getting sugar from pantry.\")\n",
        "    sugar_amount = 1  # cup\n",
        "    print(f\"Measured {sugar_amount} cup of sugar.\")\n",
        "    print(\"Getting eggs from fridge.\")\n",
        "    eggs_cracked = 3\n",
        "    print(f\"Cracked {eggs_cracked} eggs into a bowl.\")\n",
        "    milk_amount = 0.5 # cup\n",
        "    print(f\"Measured {milk_amount} cup of milk.\")\n",
        "    baking_powder_amount = 1 # teaspoon\n",
        "    print(f\"Measured {baking_powder_amount} teaspoon of baking powder.\")"
      ],
      "metadata": {
        "id": "jUwaf81_PUfQ"
      },
      "execution_count": 4,
      "outputs": []
    },
    {
      "cell_type": "markdown",
      "source": [
        "### C. Define the mix_batter function"
      ],
      "metadata": {
        "id": "tIzmDH42PYDh"
      }
    },
    {
      "cell_type": "code",
      "source": [
        "def mix_batter():\n",
        "    \"\"\"\n",
        "    Procedure to mix the cake batter.\n",
        "    Modifies global 'batter_smoothness' state.\n",
        "    \"\"\"\n",
        "    global batter_smoothness\n",
        "    print(\"\\nStep 3: Mixing the batter.\")\n",
        "    print(f\"Putting {flour_amount} cups flour, {sugar_amount} cup sugar, and {eggs_cracked} eggs into a large mixing bowl.\")\n",
        "    print(f\"Adding {milk_amount} cup milk and {baking_powder_amount} teaspoon baking powder.\")\n",
        "    print(\"Stirring everything until smooth.\")\n",
        "    batter_smoothness = \"smooth\"\n",
        "    print(f\"Batter is now {batter_smoothness}.\")"
      ],
      "metadata": {
        "id": "_0-oGOvsPaV7"
      },
      "execution_count": 5,
      "outputs": []
    },
    {
      "cell_type": "markdown",
      "source": [
        "### D. Define the bake_cake function"
      ],
      "metadata": {
        "id": "z8MFfe-WPcPX"
      }
    },
    {
      "cell_type": "code",
      "source": [
        "def bake_cake(bake_time_minutes):\n",
        "    \"\"\"\n",
        "    Procedure to bake the cake in the oven.\n",
        "    Modifies global 'cake_tin_filled', 'timer_set_for', 'current_timer', and 'cake_baked' state.\n",
        "    \"\"\"\n",
        "    global cake_tin_filled, timer_set_for, current_timer, cake_baked\n",
        "    print(\"\\nStep 4: Baking the cake.\")\n",
        "    if batter_smoothness != \"smooth\":\n",
        "        print(\"Warning: Batter is not properly mixed yet!\")\n",
        "        return\n",
        "\n",
        "    if not is_oven_preheated:\n",
        "        print(\"Warning: Oven is not preheated! Cannot bake.\")\n",
        "        return\n",
        "\n",
        "    print(\"Pouring batter into a greased cake tin.\")\n",
        "    cake_tin_filled = True\n",
        "    print(f\"Placing tin carefully into the preheated oven (at {oven_temperature}°C).\")\n",
        "    timer_set_for = bake_time_minutes\n",
        "    print(f\"Setting timer for {timer_set_for} minutes.\")\n",
        "\n",
        "    # Simulate baking time\n",
        "    for minute in range(1, bake_time_minutes + 1):\n",
        "        current_timer = minute\n",
        "        # print(f\"        ... {current_timer} minutes passed ...\")\n",
        "        pass # In a real program, this might be a delay or a real timer\n",
        "\n",
        "    print(f\"Timer rings after {timer_set_for} minutes!\")\n",
        "    print(\"Carefully removing cake from oven.\")\n",
        "    cake_baked = True\n",
        "    print(\"Cake is baked!\")"
      ],
      "metadata": {
        "id": "xWam9nGGPeDP"
      },
      "execution_count": 6,
      "outputs": []
    },
    {
      "cell_type": "markdown",
      "source": [
        "## 3. Execute the functions / procedures in sequence"
      ],
      "metadata": {
        "id": "BT3tvGCoPqjy"
      }
    },
    {
      "cell_type": "code",
      "source": [
        "# --- The Main Program (The entire baking process) ---\n",
        "\n",
        "print(\"--- Starting the Cake Baking Process (Procedural Style) ---\")\n",
        "\n",
        "# Execute procedures in sequence\n",
        "preheat_oven(180) # Instruction 1: Preheat oven\n",
        "prepare_ingredients() # Instruction 2: Gather and measure\n",
        "mix_batter() # Instruction 3: Mix everything\n",
        "bake_cake(30) # Instruction 4: Bake the cake\n",
        "\n",
        "print(\"\\n--- Cake Baking Process Complete ---\")\n",
        "\n",
        "# Check the final state of our \"kitchen\"\n",
        "print(\"\\n--- Final Kitchen State ---\")\n",
        "print(f\"Oven temperature: {oven_temperature}°C (Preheated: {is_oven_preheated})\")\n",
        "print(f\"Flour on hand: {flour_amount} cups\")\n",
        "print(f\"Sugar on hand: {sugar_amount} cup\")\n",
        "print(f\"Batter consistency: {batter_smoothness}\")\n",
        "print(f\"Cake tin filled: {cake_tin_filled}\")\n",
        "print(f\"Is cake baked?: {cake_baked}\")"
      ],
      "metadata": {
        "id": "1o0eA25ePstB",
        "colab": {
          "base_uri": "https://localhost:8080/"
        },
        "outputId": "b8cfd988-739d-42b5-9f82-1cbdd06afc72"
      },
      "execution_count": 7,
      "outputs": [
        {
          "output_type": "stream",
          "name": "stdout",
          "text": [
            "--- Starting the Cake Baking Process (Procedural Style) ---\n",
            "Step 1: Turning on the oven and setting to 180°C.\n",
            "Waiting for oven to reach temperature...\n",
            "Oven is now preheated to 180°C.\n",
            "\n",
            "Step 2: Preparing ingredients.\n",
            "Getting flour from pantry.\n",
            "Measured 2 cups of flour.\n",
            "Getting sugar from pantry.\n",
            "Measured 1 cup of sugar.\n",
            "Getting eggs from fridge.\n",
            "Cracked 3 eggs into a bowl.\n",
            "Measured 0.5 cup of milk.\n",
            "Measured 1 teaspoon of baking powder.\n",
            "\n",
            "Step 3: Mixing the batter.\n",
            "Putting 2 cups flour, 1 cup sugar, and 3 eggs into a large mixing bowl.\n",
            "Adding 0.5 cup milk and 1 teaspoon baking powder.\n",
            "Stirring everything until smooth.\n",
            "Batter is now smooth.\n",
            "\n",
            "Step 4: Baking the cake.\n",
            "Pouring batter into a greased cake tin.\n",
            "Placing tin carefully into the preheated oven (at 180°C).\n",
            "Setting timer for 30 minutes.\n",
            "Timer rings after 30 minutes!\n",
            "Carefully removing cake from oven.\n",
            "Cake is baked!\n",
            "\n",
            "--- Cake Baking Process Complete ---\n",
            "\n",
            "--- Final Kitchen State ---\n",
            "Oven temperature: 180°C (Preheated: True)\n",
            "Flour on hand: 2 cups\n",
            "Sugar on hand: 1 cup\n",
            "Batter consistency: smooth\n",
            "Cake tin filled: True\n",
            "Is cake baked?: True\n"
          ]
        }
      ]
    },
    {
      "cell_type": "markdown",
      "source": [
        "# Procedural Vs OOPS Programming"
      ],
      "metadata": {
        "id": "ySunJEDWP4pZ"
      }
    },
    {
      "cell_type": "markdown",
      "source": [
        "## Problem statement\n",
        "\n",
        "Let's directly compare Procedural Programming (PP) and Object-Oriented Programming (OOP) using an example of managing a library's book inventory.\n",
        "\n",
        "The Task: Managing a Library's Book Inventory\n",
        "We want to be able to:\n",
        "\n",
        "* Add a new book.\n",
        "* Borrow a book.\n",
        "* Return a book.\n",
        "* Display all books.\n"
      ],
      "metadata": {
        "id": "ejBIScVHQDAM"
      }
    },
    {
      "cell_type": "markdown",
      "source": [
        "## 1. Procedural Programming Approach: The \"Recipe\" Library\n",
        "\n",
        "In a procedural approach, you think of a library as a collection of books (data) and then you write a series of instructions (procedures/functions) that act on this data. The data and the functions that manipulate it are often kept separate.\n",
        "\n",
        "Analogy: Imagine a library where all the books are just piled up, and you have separate, detailed instruction manuals (procedures) for how to deal with them.\n",
        "\n"
      ],
      "metadata": {
        "id": "dQ50y3LPQQJt"
      }
    },
    {
      "cell_type": "markdown",
      "source": [
        "### A. Define the utility functions"
      ],
      "metadata": {
        "id": "nPQRXByTQZKD"
      }
    },
    {
      "cell_type": "code",
      "source": [
        "# --- Data (Global List of Books) ---\n",
        "# Our \"library\" is just a list of dictionaries (each dict is a book's data)\n",
        "library_books = []\n",
        "\n",
        "# --- Procedures (Functions) ---\n",
        "\n",
        "def add_book_procedural(title, author, isbn, quantity):\n",
        "    \"\"\"Adds a new book to the library_books list.\"\"\"\n",
        "    book = {\n",
        "        \"title\": title,\n",
        "        \"author\": author,\n",
        "        \"isbn\": isbn,\n",
        "        \"quantity\": quantity,\n",
        "        \"available_copies\": quantity\n",
        "    }\n",
        "    library_books.append(book)\n",
        "    print(f\"[PROCEDURAL] Added '{title}' to the library.\")\n",
        "\n",
        "def borrow_book_procedural(title):\n",
        "    \"\"\"Decrements available copies for a book.\"\"\"\n",
        "    for book in library_books:\n",
        "        if book[\"title\"] == title:\n",
        "            if book[\"available_copies\"] > 0:\n",
        "                book[\"available_copies\"] -= 1\n",
        "                print(f\"[PROCEDURAL] Borrowed '{title}'. {book['available_copies']} copies left.\")\n",
        "                return True\n",
        "            else:\n",
        "                print(f\"[PROCEDURAL] Sorry, '{title}' is currently out of stock.\")\n",
        "                return False\n",
        "    print(f\"[PROCEDURAL] Book '{title}' not found in library.\")\n",
        "    return False\n",
        "\n",
        "def return_book_procedural(title):\n",
        "    \"\"\"Increments available copies for a book.\"\"\"\n",
        "    for book in library_books:\n",
        "        if book[\"title\"] == title:\n",
        "            if book[\"available_copies\"] < book[\"quantity\"]:\n",
        "                book[\"available_copies\"] += 1\n",
        "                print(f\"[PROCEDURAL] Returned '{title}'. {book['available_copies']} copies now available.\")\n",
        "                return True\n",
        "            else:\n",
        "                print(f\"[PROCEDURAL] All copies of '{title}' are already in the library.\")\n",
        "                return False\n",
        "    print(f\"[PROCEDURAL] Book '{title}' not found in library.\")\n",
        "    return False\n",
        "\n",
        "def display_all_books_procedural():\n",
        "    \"\"\"Prints details of all books in the library.\"\"\"\n",
        "    print(\"\\n[PROCEDURAL] Current Library Inventory:\")\n",
        "    if not library_books:\n",
        "        print(\"Library is empty.\")\n",
        "        return\n",
        "    for book in library_books:\n",
        "        print(f\"Title: {book['title']}, Author: {book['author']}, ISBN: {book['isbn']}, \"\n",
        "              f\"Quantity: {book['quantity']}, Available: {book['available_copies']}\")"
      ],
      "metadata": {
        "id": "63UZwH-4QdFc"
      },
      "execution_count": 8,
      "outputs": []
    },
    {
      "cell_type": "markdown",
      "source": [
        "### B. Execution of the function based on different scenario"
      ],
      "metadata": {
        "id": "2AzyhnksQkC1"
      }
    },
    {
      "cell_type": "code",
      "source": [
        "# --- Main Program Flow (Sequential Steps) ---\n",
        "\n",
        "print(\"--- Procedural Programming Example ---\")\n",
        "\n",
        "add_book_procedural(\"The Great Gatsby\", \"F. Scott Fitzgerald\", \"978-0743273565\", 5)\n",
        "add_book_procedural(\"1984\", \"George Orwell\", \"978-0451524935\", 3)\n",
        "display_all_books_procedural()\n",
        "\n",
        "borrow_book_procedural(\"The Great Gatsby\")\n",
        "borrow_book_procedural(\"The Great Gatsby\")\n",
        "borrow_book_procedural(\"1984\")\n",
        "display_all_books_procedural()\n",
        "\n",
        "return_book_procedural(\"The Great Gatsby\")\n",
        "display_all_books_procedural()\n",
        "\n",
        "print(\"\\n--- Procedural Example Complete ---\\n\")"
      ],
      "metadata": {
        "id": "whRM5JtkQmW6",
        "colab": {
          "base_uri": "https://localhost:8080/"
        },
        "outputId": "66ec1288-9aa9-42ac-f329-97fb7b2e15e5"
      },
      "execution_count": 9,
      "outputs": [
        {
          "output_type": "stream",
          "name": "stdout",
          "text": [
            "--- Procedural Programming Example ---\n",
            "[PROCEDURAL] Added 'The Great Gatsby' to the library.\n",
            "[PROCEDURAL] Added '1984' to the library.\n",
            "\n",
            "[PROCEDURAL] Current Library Inventory:\n",
            "Title: The Great Gatsby, Author: F. Scott Fitzgerald, ISBN: 978-0743273565, Quantity: 5, Available: 5\n",
            "Title: 1984, Author: George Orwell, ISBN: 978-0451524935, Quantity: 3, Available: 3\n",
            "[PROCEDURAL] Borrowed 'The Great Gatsby'. 4 copies left.\n",
            "[PROCEDURAL] Borrowed 'The Great Gatsby'. 3 copies left.\n",
            "[PROCEDURAL] Borrowed '1984'. 2 copies left.\n",
            "\n",
            "[PROCEDURAL] Current Library Inventory:\n",
            "Title: The Great Gatsby, Author: F. Scott Fitzgerald, ISBN: 978-0743273565, Quantity: 5, Available: 3\n",
            "Title: 1984, Author: George Orwell, ISBN: 978-0451524935, Quantity: 3, Available: 2\n",
            "[PROCEDURAL] Returned 'The Great Gatsby'. 4 copies now available.\n",
            "\n",
            "[PROCEDURAL] Current Library Inventory:\n",
            "Title: The Great Gatsby, Author: F. Scott Fitzgerald, ISBN: 978-0743273565, Quantity: 5, Available: 4\n",
            "Title: 1984, Author: George Orwell, ISBN: 978-0451524935, Quantity: 3, Available: 2\n",
            "\n",
            "--- Procedural Example Complete ---\n",
            "\n"
          ]
        }
      ]
    },
    {
      "cell_type": "markdown",
      "source": [
        "## Key Takeaways:\n",
        "\n",
        "* Data and Functions are Separate: library_books is a list, and add_book_procedural, borrow_book_procedural are functions that act on this list. They don't \"belong\" to the list itself.\n",
        "* Step-by-Step: You define a clear sequence of operations.\n",
        "* Global State: The library_books list is a global variable that any function can access and modify. This can become hard to manage in very large systems."
      ],
      "metadata": {
        "id": "Qp1jJthfQzQg"
      }
    },
    {
      "cell_type": "markdown",
      "source": [
        "## 2. Object-Oriented Programming Approach: The \"Smart Book\" Library\n",
        "\n",
        "In an OOP approach, you think about the \"things\" (objects) in your system. Here, a \"Book\" is an object that not only has data (its title, author, ISBN) but also knows how to perform actions related to itself (like reducing its own available copies when borrowed).\n",
        "\n",
        "Analogy: Imagine each book in the library is \"smart.\" It knows its own title, author, and how many copies it has. When you borrow it, it updates its own count. The library then becomes a collection of these smart books, each managing itself."
      ],
      "metadata": {
        "id": "NZrVEcDQQ5aD"
      }
    },
    {
      "cell_type": "markdown",
      "source": [
        "### A. Define the essential classes and associated attributes and methods"
      ],
      "metadata": {
        "id": "Yp0xWxDdQ92S"
      }
    },
    {
      "cell_type": "code",
      "source": [
        "# --- Class (Blueprint for a Book Object) ---\n",
        "\n",
        "class Book:\n",
        "    \"\"\"\n",
        "    This is the blueprint for a Book object.\n",
        "    Each Book object will manage its own data and actions.\n",
        "    \"\"\"\n",
        "    def __init__(self, title, author, isbn, quantity):\n",
        "        # These are the book's attributes (data, encapsulated within the object)\n",
        "        self.title = title\n",
        "        self.author = author\n",
        "        self.isbn = isbn\n",
        "        self.total_quantity = quantity\n",
        "        self.available_copies = quantity\n",
        "        print(f\"[OOP] Book object created: '{self.title}'\")\n",
        "\n",
        "    # These are the book's methods (actions it can perform on itself)\n",
        "    def borrow(self):\n",
        "        \"\"\"Action: A book object handles its own borrowing logic.\"\"\"\n",
        "        if self.available_copies > 0:\n",
        "            self.available_copies -= 1\n",
        "            print(f\"[OOP] Borrowed '{self.title}'. {self.available_copies} copies left.\")\n",
        "            return True\n",
        "        else:\n",
        "            print(f\"[OOP] Sorry, '{self.title}' is currently out of stock.\")\n",
        "            return False\n",
        "\n",
        "    def return_book(self):\n",
        "        \"\"\"Action: A book object handles its own return logic.\"\"\"\n",
        "        if self.available_copies < self.total_quantity:\n",
        "            self.available_copies += 1\n",
        "            print(f\"[OOP] Returned '{self.title}'. {self.available_copies} copies now available.\")\n",
        "            return True\n",
        "        else:\n",
        "            print(f\"[OOP] All copies of '{self.title}' are already in the library.\")\n",
        "            return False\n",
        "\n",
        "    def display_info(self):\n",
        "        \"\"\"Action: A book object can display its own information.\"\"\"\n",
        "        print(f\"    Title: {self.title}, Author: {self.author}, ISBN: {self.isbn}, \"\n",
        "              f\"Quantity: {self.total_quantity}, Available: {self.available_copies}\")\n",
        "\n",
        "# --- Class (Blueprint for a Library Object) ---\n",
        "class Library:\n",
        "    \"\"\"\n",
        "    This is the blueprint for a Library object.\n",
        "    It will manage a collection of Book objects.\n",
        "    \"\"\"\n",
        "    def __init__(self, name):\n",
        "        self.name = name\n",
        "        self.books = [] # The library has a list of Book objects\n",
        "        print(f\"\\n[OOP] Library '{self.name}' created.\")\n",
        "\n",
        "    def add_book(self, book_obj):\n",
        "        \"\"\"Adds a Book object to the library.\"\"\"\n",
        "        # In a real system, you'd check for existing books by ISBN\n",
        "        self.books.append(book_obj)\n",
        "        print(f\"[OOP] '{book_obj.title}' added to {self.name} library.\")\n",
        "\n",
        "    def find_book(self, title):\n",
        "        \"\"\"Finds a book object by title.\"\"\"\n",
        "        for book in self.books:\n",
        "            if book.title == title:\n",
        "                return book\n",
        "        return None\n",
        "\n",
        "    def display_all_books(self):\n",
        "        \"\"\"Asks each book object to display its info.\"\"\"\n",
        "        print(f\"\\n[OOP] Current Inventory for '{self.name}':\")\n",
        "        if not self.books:\n",
        "            print(\"Library is empty.\")\n",
        "            return\n",
        "        for book in self.books:\n",
        "            book.display_info() # Each book object handles its own display"
      ],
      "metadata": {
        "id": "0KwYfVyyRAMD"
      },
      "execution_count": 10,
      "outputs": []
    },
    {
      "cell_type": "markdown",
      "source": [
        "### B. Execution and interaction with the objects"
      ],
      "metadata": {
        "id": "z_BIkYeXRDdm"
      }
    },
    {
      "cell_type": "code",
      "source": [
        "# --- Main Program Flow (Interacting with Objects) ---\n",
        "\n",
        "print(\"--- Object-Oriented Programming Example ---\")\n",
        "\n",
        "# 1. Create a Library object\n",
        "my_library = Library(\"City Central Library\")\n",
        "\n",
        "# 2. Create Book objects\n",
        "gatsby_book = Book(\"The Great Gatsby\", \"F. Scott Fitzgerald\", \"978-0743273565\", 5)\n",
        "nineteen84_book = Book(\"1984\", \"George Orwell\", \"978-0451524935\", 3)\n",
        "\n",
        "# 3. Add Book objects to the Library object\n",
        "my_library.add_book(gatsby_book)\n",
        "my_library.add_book(nineteen84_book)\n",
        "\n",
        "my_library.display_all_books()\n",
        "\n",
        "# 4. Interact with books via the library (or directly if we had a reference)\n",
        "print(\"\\n[OOP] Borrowing and Returning:\")\n",
        "found_gatsby = my_library.find_book(\"The Great Gatsby\")\n",
        "if found_gatsby:\n",
        "    found_gatsby.borrow() # The Book object itself handles the borrow action\n",
        "    found_gatsby.borrow()\n",
        "    # What if someone tries to 'cheat' and directly change copies?\n",
        "    # found_gatsby.available_copies = 100 # This would break encapsulation if __available_copies was used\n",
        "\n",
        "found_1984 = my_library.find_book(\"1984\")\n",
        "if found_1984:\n",
        "    found_1984.borrow()\n",
        "\n",
        "my_library.display_all_books()\n",
        "\n",
        "if found_gatsby:\n",
        "    found_gatsby.return_book()\n",
        "\n",
        "my_library.display_all_books()\n",
        "\n",
        "print(\"\\n--- OOP Example Complete ---\\n\")"
      ],
      "metadata": {
        "id": "Duu5UhToREV8",
        "colab": {
          "base_uri": "https://localhost:8080/"
        },
        "outputId": "39364999-59f0-414a-e4a4-514542711d6a"
      },
      "execution_count": 11,
      "outputs": [
        {
          "output_type": "stream",
          "name": "stdout",
          "text": [
            "--- Object-Oriented Programming Example ---\n",
            "\n",
            "[OOP] Library 'City Central Library' created.\n",
            "[OOP] Book object created: 'The Great Gatsby'\n",
            "[OOP] Book object created: '1984'\n",
            "[OOP] 'The Great Gatsby' added to City Central Library library.\n",
            "[OOP] '1984' added to City Central Library library.\n",
            "\n",
            "[OOP] Current Inventory for 'City Central Library':\n",
            "    Title: The Great Gatsby, Author: F. Scott Fitzgerald, ISBN: 978-0743273565, Quantity: 5, Available: 5\n",
            "    Title: 1984, Author: George Orwell, ISBN: 978-0451524935, Quantity: 3, Available: 3\n",
            "\n",
            "[OOP] Borrowing and Returning:\n",
            "[OOP] Borrowed 'The Great Gatsby'. 4 copies left.\n",
            "[OOP] Borrowed 'The Great Gatsby'. 3 copies left.\n",
            "[OOP] Borrowed '1984'. 2 copies left.\n",
            "\n",
            "[OOP] Current Inventory for 'City Central Library':\n",
            "    Title: The Great Gatsby, Author: F. Scott Fitzgerald, ISBN: 978-0743273565, Quantity: 5, Available: 3\n",
            "    Title: 1984, Author: George Orwell, ISBN: 978-0451524935, Quantity: 3, Available: 2\n",
            "[OOP] Returned 'The Great Gatsby'. 4 copies now available.\n",
            "\n",
            "[OOP] Current Inventory for 'City Central Library':\n",
            "    Title: The Great Gatsby, Author: F. Scott Fitzgerald, ISBN: 978-0743273565, Quantity: 5, Available: 4\n",
            "    Title: 1984, Author: George Orwell, ISBN: 978-0451524935, Quantity: 3, Available: 2\n",
            "\n",
            "--- OOP Example Complete ---\n",
            "\n"
          ]
        }
      ]
    },
    {
      "cell_type": "markdown",
      "source": [
        "## Key Differences between Procedural and OOPS summarized :\n",
        "\n",
        "1. Focus:\n",
        "\n",
        "* Procedural: Focuses on actions/functions (add_book_procedural, borrow_book_procedural) and passing data to them. It's about how to do things step-by-step.\n",
        "* Object-Oriented: Focuses on objects (Book objects, Library object) that combine both data and the actions that operate on that data. It's about what things are and what they can do.\n",
        "\n",
        "2. Data Handling:\n",
        "* Procedural: Data (library_books list) is often global or passed around between functions. Functions directly manipulate this shared data.\n",
        "* Object-Oriented: Data (like title, available_copies within a Book object) is encapsulated within the object itself. Methods (like borrow()) belong to the object and are responsible for modifying that object's own data. This makes it harder for unrelated parts of the code to accidentally mess with data.\n",
        "\n",
        "3. Code Organization:\n",
        "* Procedural: Code is organized into procedures. If you want to know about borrowing, you find the borrow_book_procedural function.\n",
        "* Object-Oriented: Code is organized into classes and objects. If you want to know about borrowing a book, you look at the Book class and its borrow() method.\n",
        "\n",
        "4. Modularity & Reusability:\n",
        "* Procedural: If you introduce a new type of item (e.g., a DVD) in the library, you might need to create many new functions like add_dvd_procedural, borrow_dvd_procedural, and modify existing ones to handle both books and DVDs.\n",
        "* Object-Oriented: You could create a new DVD class (perhaps inheriting from a general LibraryItem class). The Library object would then simply store LibraryItem objects, and each item would know how to borrow() or return() itself (polymorphism), making it easier to add new item types without changing much of the existing code.\n",
        "\n",
        "In essence:\n",
        "\n",
        "* Procedural Programming is like having a central command center (the main program) that issues instructions to specialized workers (functions) on how to process raw materials (data).\n",
        "* Object-Oriented Programming is like designing \"smart packets\" (objects) that contain both their own data and the instructions on how they should be handled, then assembling a system out of these self-managing packets.\n",
        "* OOP generally scales better for complex, large-scale applications because it helps manage complexity through its principles of encapsulation, inheritance, and polymorphism. Procedural programming can be perfectly fine for simpler, linear tasks."
      ],
      "metadata": {
        "id": "gccI5AaJRLLa"
      }
    },
    {
      "cell_type": "markdown",
      "source": [
        "# Event Driven programming with an example"
      ],
      "metadata": {
        "id": "_mVluY4pRTkZ"
      }
    },
    {
      "cell_type": "markdown",
      "source": [
        "## 1. Define the Events\n",
        "\n",
        "* Events as Messages: We define specific EVENT_ constants (like EVENT_CUSTOMER_WALKS_IN). These are the \"things that happen.\""
      ],
      "metadata": {
        "id": "O21nD4KURbhm"
      }
    },
    {
      "cell_type": "code",
      "source": [
        "import time\n",
        "\n",
        "# --- 1. Define the Events ---\n",
        "# We'll use simple strings for event names, but in more complex systems,\n",
        "# these could be custom Event objects with more data.\n",
        "\n",
        "EVENT_CUSTOMER_WALKS_IN = \"customer_walks_in\"\n",
        "EVENT_ORDER_PLACED = \"order_placed\"\n",
        "EVENT_COFFEE_READY = \"coffee_ready\"\n",
        "EVENT_PAYMENT_RECEIVED = \"payment_received\"\n",
        "EVENT_SHIPMENT_ARRIVED = \"new_shipment_arrived\""
      ],
      "metadata": {
        "id": "mKubzP-8Rf0j"
      },
      "execution_count": 12,
      "outputs": []
    },
    {
      "cell_type": "markdown",
      "source": [
        "## 2. Define the Central Event Dispatcher\n",
        "\n",
        "Event Dispatcher (EventDispatcher class): This is the heart of the system.\n",
        "\n",
        "* It maintains a registry (self.listeners) that maps event names to a list of functions that are interested in that event.\n",
        "* register_listener(): Staff members \"sign up\" to listen for specific events.\n",
        "* fire_event(): When something happens, the dispatcher \"fires\" the event. It then looks up all functions registered for that event and calls them, passing any relevant data."
      ],
      "metadata": {
        "id": "2Syp4UGARiHY"
      }
    },
    {
      "cell_type": "code",
      "source": [
        "# --- 2. The Central Event Dispatcher ---\n",
        "\n",
        "class EventDispatcher:\n",
        "    \"\"\"\n",
        "    Manages all events and their listeners.\n",
        "    It's like the nervous system of the coffee shop.\n",
        "    \"\"\"\n",
        "    def __init__(self):\n",
        "        self.listeners = {} # Dictionary: event_name -> list of listener functions\n",
        "\n",
        "    def register_listener(self, event_name, listener_function):\n",
        "        \"\"\"\n",
        "        Registers a function to be called when a specific event occurs.\n",
        "        \"\"\"\n",
        "        if event_name not in self.listeners:\n",
        "            self.listeners[event_name] = []\n",
        "        self.listeners[event_name].append(listener_function)\n",
        "        print(f\"  [Dispatcher] Registered '{listener_function.__name__}' for '{event_name}'.\")\n",
        "\n",
        "    def fire_event(self, event_name, *args, **kwargs):\n",
        "        \"\"\"\n",
        "        Triggers an event, calling all registered listener functions.\n",
        "        \"\"\"\n",
        "        print(f\"\\n--- DISPATCHER: Event '{event_name}' fired! ---\")\n",
        "        if event_name in self.listeners:\n",
        "            for listener in self.listeners[event_name]:\n",
        "                try:\n",
        "                    listener(*args, **kwargs) # Call the listener with event data\n",
        "                except TypeError as e:\n",
        "                    print(f\"[Dispatcher Error] Listener '{listener.__name__}' failed for '{event_name}': {e}\")\n",
        "        else:\n",
        "            print(f\"[Dispatcher] No listeners for '{event_name}'.\")"
      ],
      "metadata": {
        "id": "dUVszwa5Rkxt"
      },
      "execution_count": 13,
      "outputs": []
    },
    {
      "cell_type": "markdown",
      "source": [
        "## 3. Define the \"Staff Members\" (Event Listeners/Handlers)\n",
        "\n",
        "Event Listeners/Handlers (Functions like greet_customer, barista_handle_order):\n",
        "\n",
        "* These functions represent the \"staff members\" who are trained to react to certain situations.\n",
        "* They don't run on their own; they wait to be triggered by the EventDispatcher when a specific event occurs.\n",
        "* Notice how barista_handle_order itself fires a new event (EVENT_COFFEE_READY) once its task is done. This shows how events can chain."
      ],
      "metadata": {
        "id": "x2vJrACVRofg"
      }
    },
    {
      "cell_type": "code",
      "source": [
        "# --- 3. The \"Staff Members\" (Event Listeners/Handlers) ---\n",
        "# These are functions that perform actions when an event is passed to them.\n",
        "\n",
        "def greet_customer(customer_name):\n",
        "    print(f\"[Greeter] Welcome, {customer_name}! Please take a look at our menu.\")\n",
        "\n",
        "def barista_handle_order(customer_name, item, size=\"medium\"):\n",
        "    print(f\"[Barista] Order received from {customer_name}: {size} {item}. Starting preparation...\")\n",
        "    # Simulate making coffee\n",
        "    time.sleep(1) # Takes a moment to prepare\n",
        "    print(f\"[Barista] {size} {item} is ready!\")\n",
        "    # Once coffee is ready, the barista fires a new event!\n",
        "    coffee_shop.dispatcher.fire_event(EVENT_COFFEE_READY, customer_name, item)\n",
        "\n",
        "def barista_serve_coffee(customer_name, item):\n",
        "    print(f\"[Barista] Here's your {item}, {customer_name}! Enjoy!\")\n",
        "\n",
        "def cashier_process_payment(customer_name, amount):\n",
        "    print(f\"[Cashier] Processing payment for {customer_name}: ${amount:.2f}.\")\n",
        "    print(f\"[Cashier] Payment received. Thank you!\")\n",
        "    # Cashier might fire a 'transaction_complete' event here in a real system\n",
        "\n",
        "def inventory_update_stock(item_name, quantity):\n",
        "    print(f\"[Inventory] New shipment: {quantity} units of {item_name} received. Updating stock.\")\n",
        "    # In a real system, this would update a database or inventory count"
      ],
      "metadata": {
        "id": "GLFzcl9WRprZ"
      },
      "execution_count": 14,
      "outputs": []
    },
    {
      "cell_type": "markdown",
      "source": [
        "## 4. Integrating the complete Coffee Shop"
      ],
      "metadata": {
        "id": "GR8QqwxNRtmp"
      }
    },
    {
      "cell_type": "code",
      "source": [
        "# --- 4. The Coffee Shop (Putting it all together) ---\n",
        "\n",
        "class CoffeeShop:\n",
        "    \"\"\"\n",
        "    Our main coffee shop entity that sets up the events and listeners.\n",
        "    \"\"\"\n",
        "    def __init__(self, name):\n",
        "        self.name = name\n",
        "        self.dispatcher = EventDispatcher()\n",
        "        self._setup_listeners()\n",
        "        print(f\"Welcome to {self.name}! The coffee shop is open and ready to serve.\")\n",
        "\n",
        "    def _setup_listeners(self):\n",
        "        \"\"\"Registers all staff members to their respective events.\"\"\"\n",
        "        print(\"\\n--- Setting up Event Listeners ---\")\n",
        "        self.dispatcher.register_listener(EVENT_CUSTOMER_WALKS_IN, greet_customer)\n",
        "        self.dispatcher.register_listener(EVENT_ORDER_PLACED, barista_handle_order)\n",
        "        self.dispatcher.register_listener(EVENT_COFFEE_READY, barista_serve_coffee)\n",
        "        self.dispatcher.register_listener(EVENT_PAYMENT_RECEIVED, cashier_process_payment)\n",
        "        self.dispatcher.register_listener(EVENT_SHIPMENT_ARRIVED, inventory_update_stock)"
      ],
      "metadata": {
        "id": "dndoH_n1R1S9"
      },
      "execution_count": 15,
      "outputs": []
    },
    {
      "cell_type": "markdown",
      "source": [
        "## 5. Simulation/Execution of the Coffee Shop Day\n",
        "\n",
        "* No Fixed Script: In the \"Simulation\" part, we don't have a rigid sequence like \"first preheat, then mix, then bake.\" Instead, we just fire_event whenever something happens. The system reacts dynamically.\n",
        "* Asynchronous Nature (Simulated): Even though Python code runs sequentially, the event-driven structure simulates concurrent activity. The Barista starts making coffee (a simulated delay), but the Cashier can process a payment for another customer before the first coffee is fully ready. The events don't block each other."
      ],
      "metadata": {
        "id": "Q2Ng7Po4R34v"
      }
    },
    {
      "cell_type": "code",
      "source": [
        "\n",
        "# --- Simulation of the Coffee Shop Day ---\n",
        "\n",
        "print(\"\\n--- Starting the Event-Driven Coffee Shop Simulation ---\")\n",
        "\n",
        "# Create the coffee shop instance, which sets up the event system\n",
        "coffee_shop = CoffeeShop(\"The Daily Brew\")\n",
        "\n",
        "# --- Events Firing ---\n",
        "\n",
        "# Event 1: A customer walks in\n",
        "coffee_shop.dispatcher.fire_event(EVENT_CUSTOMER_WALKS_IN, \"Alice\")\n",
        "time.sleep(0.5)\n",
        "\n",
        "# Event 2: Alice places an order\n",
        "coffee_shop.dispatcher.fire_event(EVENT_ORDER_PLACED, \"Alice\", \"Latte\", size=\"large\")\n",
        "time.sleep(0.5) # Simulate time passing while Barista works\n",
        "\n",
        "# Event 3: Another customer walks in while Barista is busy\n",
        "coffee_shop.dispatcher.fire_event(EVENT_CUSTOMER_WALKS_IN, \"Bob\")\n",
        "time.sleep(0.5)\n",
        "\n",
        "# Event 4: Bob places an order\n",
        "coffee_shop.dispatcher.fire_event(EVENT_ORDER_PLACED, \"Bob\", \"Cappuccino\")\n",
        "time.sleep(0.5)\n",
        "\n",
        "# Event 5: Alice's payment is received (note: order of receipt doesn't strictly follow order of placing)\n",
        "coffee_shop.dispatcher.fire_event(EVENT_PAYMENT_RECEIVED, \"Alice\", 5.50)\n",
        "time.sleep(0.5)\n",
        "\n",
        "# Event 6: A new shipment of beans arrives\n",
        "coffee_shop.dispatcher.fire_event(EVENT_SHIPMENT_ARRIVED, \"Espresso Beans\", 20)\n",
        "time.sleep(0.5)\n",
        "\n",
        "# End of simulation\n",
        "print(\"\\n--- End of Coffee Shop Day Simulation ---\")"
      ],
      "metadata": {
        "collapsed": true,
        "id": "pxvX_4iwR692",
        "colab": {
          "base_uri": "https://localhost:8080/"
        },
        "outputId": "03e09d46-255d-48f5-c13c-6191b27cfeee"
      },
      "execution_count": 16,
      "outputs": [
        {
          "output_type": "stream",
          "name": "stdout",
          "text": [
            "\n",
            "--- Starting the Event-Driven Coffee Shop Simulation ---\n",
            "\n",
            "--- Setting up Event Listeners ---\n",
            "  [Dispatcher] Registered 'greet_customer' for 'customer_walks_in'.\n",
            "  [Dispatcher] Registered 'barista_handle_order' for 'order_placed'.\n",
            "  [Dispatcher] Registered 'barista_serve_coffee' for 'coffee_ready'.\n",
            "  [Dispatcher] Registered 'cashier_process_payment' for 'payment_received'.\n",
            "  [Dispatcher] Registered 'inventory_update_stock' for 'new_shipment_arrived'.\n",
            "Welcome to The Daily Brew! The coffee shop is open and ready to serve.\n",
            "\n",
            "--- DISPATCHER: Event 'customer_walks_in' fired! ---\n",
            "[Greeter] Welcome, Alice! Please take a look at our menu.\n",
            "\n",
            "--- DISPATCHER: Event 'order_placed' fired! ---\n",
            "[Barista] Order received from Alice: large Latte. Starting preparation...\n",
            "[Barista] large Latte is ready!\n",
            "\n",
            "--- DISPATCHER: Event 'coffee_ready' fired! ---\n",
            "[Barista] Here's your Latte, Alice! Enjoy!\n",
            "\n",
            "--- DISPATCHER: Event 'customer_walks_in' fired! ---\n",
            "[Greeter] Welcome, Bob! Please take a look at our menu.\n",
            "\n",
            "--- DISPATCHER: Event 'order_placed' fired! ---\n",
            "[Barista] Order received from Bob: medium Cappuccino. Starting preparation...\n",
            "[Barista] medium Cappuccino is ready!\n",
            "\n",
            "--- DISPATCHER: Event 'coffee_ready' fired! ---\n",
            "[Barista] Here's your Cappuccino, Bob! Enjoy!\n",
            "\n",
            "--- DISPATCHER: Event 'payment_received' fired! ---\n",
            "[Cashier] Processing payment for Alice: $5.50.\n",
            "[Cashier] Payment received. Thank you!\n",
            "\n",
            "--- DISPATCHER: Event 'new_shipment_arrived' fired! ---\n",
            "[Inventory] New shipment: 20 units of Espresso Beans received. Updating stock.\n",
            "\n",
            "--- End of Coffee Shop Day Simulation ---\n"
          ]
        }
      ]
    },
    {
      "cell_type": "markdown",
      "source": [
        "## Key Insights\n",
        "\n",
        "This implementation demonstrates the core principles of Event-Driven Programming, where the flow of control is determined by external occurrences rather than a predefined linear sequence."
      ],
      "metadata": {
        "id": "Rv5UYa3DR9Ww"
      }
    }
  ]
}